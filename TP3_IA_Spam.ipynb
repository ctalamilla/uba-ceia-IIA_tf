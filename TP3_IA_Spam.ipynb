{
  "cells": [
    {
      "cell_type": "markdown",
      "metadata": {
        "id": "view-in-github",
        "colab_type": "text"
      },
      "source": [
        "<a href=\"https://colab.research.google.com/github/ctalamilla/uba-ceia-IIA_tf/blob/main/TP3_IA_Spam.ipynb\" target=\"_parent\"><img src=\"https://colab.research.google.com/assets/colab-badge.svg\" alt=\"Open In Colab\"/></a>"
      ]
    },
    {
      "cell_type": "markdown",
      "id": "WJ7KP-7xQDrI",
      "metadata": {
        "id": "WJ7KP-7xQDrI"
      },
      "source": [
        "\n",
        "a1805 Natalia Beatriz Diaz\n",
        "\n",
        "e1401 Martin Nicolas Duarte\n",
        "\n",
        "a1822 Cristian Patricio Salinas Talamilla\n",
        "\n",
        "a1812 Ezequiel Eduardo Maudet\n",
        "\n",
        "a1819 Manuel Pineyro"
      ]
    },
    {
      "cell_type": "markdown",
      "id": "SbVz9S5LxEbM",
      "metadata": {
        "id": "SbVz9S5LxEbM"
      },
      "source": [
        "Tareas y preguntas a resolver:\n",
        "\n",
        "1) ¿Cuáles son las 10 palabras más encontradas en correos con SPAM y en correos No SPAM? ¿Hay palabras en común? ¿Algunas llaman la atención?\n",
        "\n",
        "2) Separe el conjunto de datos en un conjunto de entrenamiento y un conjunto de prueba (70% y 30% respectivamente).\n",
        "\n",
        "3) Utilizando un clasificador de Bayes ingenuo, entrene con el conjunto de entrenamiento.\n",
        "\n",
        "4) Utilizando un clasificador de Regresión Logística, entrene con el conjunto de entrenamiento (en este caso, normalice los datos).\n",
        "\n",
        "5) Calcule la matriz de confusión del conjunto de evaluación para ambos modelos. ¿Qué tipo de error comete más cada modelo? ¿Cuál de los dos tipos de error crees que es más importante para este problema?\n",
        "\n",
        "6) Calcule la precisión y la recuperación de ambos modelos. Para cada métrica, ¿cuál es el mejor modelo? ¿Cómo se relacionan estas métricas con los tipos de errores analizados en el punto anterior? Expanda su respuesta.\n",
        "\n",
        "7) Obtenga la curva ROC y el AUC (Área Bajo la Curva ROC) de ambos modelos."
      ]
    },
    {
      "cell_type": "code",
      "execution_count": null,
      "id": "ae42b5cdc085ad0f",
      "metadata": {
        "ExecuteTime": {
          "end_time": "2024-04-11T15:52:16.120115Z",
          "start_time": "2024-04-11T15:52:15.893237Z"
        },
        "id": "ae42b5cdc085ad0f",
        "jupyter": {
          "outputs_hidden": false
        }
      },
      "outputs": [],
      "source": [
        "import pandas as pd\n",
        "import numpy as np\n",
        "import matplotlib.pyplot as plt\n",
        "import seaborn as sns\n",
        "\n",
        "from sklearn.model_selection import train_test_split\n",
        "from sklearn.preprocessing import MinMaxScaler\n",
        "\n",
        "# Scikit-learn nos ofrece una variedad ampliada de modelos Naive Bayes, para este problema usamos MultinomialNB que es pensado para este tipo de problemas\n",
        "from sklearn.naive_bayes import MultinomialNB\n",
        "\n",
        "from sklearn.linear_model import LogisticRegression\n",
        "\n",
        "from sklearn.metrics import accuracy_score, precision_score, recall_score, confusion_matrix, ConfusionMatrixDisplay"
      ]
    },
    {
      "cell_type": "markdown",
      "id": "fadd4f97a897731c",
      "metadata": {
        "collapsed": false,
        "id": "fadd4f97a897731c",
        "jupyter": {
          "outputs_hidden": false
        }
      },
      "source": [
        "# TP3: Detector de SPAM\n",
        "\n",
        "Uno de los problemas más comunes en la clasificación es la detección de correos electrónicos SPAM. Uno de los primeros modelos utilizados para abordar este problema fue el clasificador de Bayes ingenuo. La detección de SPAM es un problema persistente en el mundo digital, ya que los spammers continúan adaptando sus estrategias para eludir los filtros de correo no deseado. Además del clasificador de Bayes ingenuo, se han desarrollado y utilizado una variedad de técnicas más avanzadas en la detección de SPAM, que incluyen algoritmos de aprendizaje automático, redes neuronales y métodos basados en reglas.\n",
        "\n",
        "En este trabajo práctico, utilizaremos un conjunto de datos que consta de 4601 observaciones de correos electrónicos, de los cuales 2788 son correos legítimos y 1813 son correos SPAM. Dado que el contenido de los correos electrónicos es un tipo de dato no estructurado, es necesario procesarlo de alguna manera. Para este conjunto de datos, ya se ha aplicado un procesamiento típico en el Procesamiento del Lenguaje Natural (NLP), que consiste en contar la frecuencia de palabras observadas en los correos.\n",
        "\n",
        "El procesamiento de lenguaje natural (NLP) desempeña un papel fundamental en la detección de SPAM, ya que permite analizar el contenido de los correos electrónicos y extraer características relevantes para la clasificación. Además de contar la frecuencia de palabras, se pueden utilizar técnicas más sofisticadas, como la extracción de características semánticas y el análisis de sentimientos, para mejorar la precisión de los modelos de detección de SPAM.\n",
        "\n",
        "En este proceso, se cuenta la cantidad de ocurrencias de cada palabra en los diferentes correos.\n",
        "\n",
        "![spam counter](https://github.com/MOPineyro/fiuba_iia_18co2024_tp_final/blob/main/spam.png?raw=1)\n",
        "\n",
        "Con el fin de preservar la privacidad de los mensajes, la frecuencia de palabras se encuentra normalizada. El conjunto de datos está compuesto por 54 columnas de atributos que se denominan:\n",
        "\n",
        "- `word_freq_XXXX`: Donde `XXXX` es la palabra o símbolo. Los valores son enteros que van de 0 a 20k.\n",
        "\n",
        "Además, hay una columna adicional llamada `spam`, que es 1 si el correo es SPAM o 0 si no lo es.\n",
        "\n",
        "Los clasificadores de Bayes ingenuos fueron los primeros filtros utilizados por las aplicaciones de correo electrónico, basados en este principio de palabras. La idea es que, partiendo de un dato a priori sobre la probabilidad de que un correo sea SPAM o no, ciertas palabras nos indicarán que la probabilidad a posteriori, dadas esas palabras, es más probable que el correo sea SPAM o no."
      ]
    },
    {
      "cell_type": "code",
      "execution_count": null,
      "id": "af07a8a8",
      "metadata": {
        "id": "af07a8a8",
        "outputId": "d276ada5-f3d4-41c1-a8e9-f4969f7d0318"
      },
      "outputs": [
        {
          "data": {
            "text/html": [
              "<div>\n",
              "<style scoped>\n",
              "    .dataframe tbody tr th:only-of-type {\n",
              "        vertical-align: middle;\n",
              "    }\n",
              "\n",
              "    .dataframe tbody tr th {\n",
              "        vertical-align: top;\n",
              "    }\n",
              "\n",
              "    .dataframe thead th {\n",
              "        text-align: right;\n",
              "    }\n",
              "</style>\n",
              "<table border=\"1\" class=\"dataframe\">\n",
              "  <thead>\n",
              "    <tr style=\"text-align: right;\">\n",
              "      <th></th>\n",
              "      <th>word_freq_make</th>\n",
              "      <th>word_freq_address</th>\n",
              "      <th>word_freq_all</th>\n",
              "      <th>word_freq_3d</th>\n",
              "      <th>word_freq_our</th>\n",
              "      <th>word_freq_over</th>\n",
              "      <th>word_freq_remove</th>\n",
              "      <th>word_freq_internet</th>\n",
              "      <th>word_freq_order</th>\n",
              "      <th>word_freq_mail</th>\n",
              "      <th>...</th>\n",
              "      <th>word_freq_edu</th>\n",
              "      <th>word_freq_table</th>\n",
              "      <th>word_freq_conference</th>\n",
              "      <th>char_freq_;</th>\n",
              "      <th>char_freq_(</th>\n",
              "      <th>char_freq_[</th>\n",
              "      <th>char_freq_!</th>\n",
              "      <th>char_freq_$</th>\n",
              "      <th>char_freq_#</th>\n",
              "      <th>spam</th>\n",
              "    </tr>\n",
              "  </thead>\n",
              "  <tbody>\n",
              "    <tr>\n",
              "      <th>0</th>\n",
              "      <td>0</td>\n",
              "      <td>640</td>\n",
              "      <td>640</td>\n",
              "      <td>0</td>\n",
              "      <td>320</td>\n",
              "      <td>0</td>\n",
              "      <td>0</td>\n",
              "      <td>0</td>\n",
              "      <td>0</td>\n",
              "      <td>0</td>\n",
              "      <td>...</td>\n",
              "      <td>0</td>\n",
              "      <td>0</td>\n",
              "      <td>0</td>\n",
              "      <td>0</td>\n",
              "      <td>0</td>\n",
              "      <td>0</td>\n",
              "      <td>778</td>\n",
              "      <td>0</td>\n",
              "      <td>0</td>\n",
              "      <td>1</td>\n",
              "    </tr>\n",
              "    <tr>\n",
              "      <th>1</th>\n",
              "      <td>210</td>\n",
              "      <td>280</td>\n",
              "      <td>500</td>\n",
              "      <td>0</td>\n",
              "      <td>140</td>\n",
              "      <td>280</td>\n",
              "      <td>210</td>\n",
              "      <td>70</td>\n",
              "      <td>0</td>\n",
              "      <td>940</td>\n",
              "      <td>...</td>\n",
              "      <td>0</td>\n",
              "      <td>0</td>\n",
              "      <td>0</td>\n",
              "      <td>0</td>\n",
              "      <td>132</td>\n",
              "      <td>0</td>\n",
              "      <td>372</td>\n",
              "      <td>180</td>\n",
              "      <td>48</td>\n",
              "      <td>1</td>\n",
              "    </tr>\n",
              "    <tr>\n",
              "      <th>2</th>\n",
              "      <td>60</td>\n",
              "      <td>0</td>\n",
              "      <td>710</td>\n",
              "      <td>0</td>\n",
              "      <td>1230</td>\n",
              "      <td>190</td>\n",
              "      <td>190</td>\n",
              "      <td>120</td>\n",
              "      <td>640</td>\n",
              "      <td>250</td>\n",
              "      <td>...</td>\n",
              "      <td>60</td>\n",
              "      <td>0</td>\n",
              "      <td>0</td>\n",
              "      <td>10</td>\n",
              "      <td>143</td>\n",
              "      <td>0</td>\n",
              "      <td>276</td>\n",
              "      <td>184</td>\n",
              "      <td>10</td>\n",
              "      <td>1</td>\n",
              "    </tr>\n",
              "    <tr>\n",
              "      <th>3</th>\n",
              "      <td>0</td>\n",
              "      <td>0</td>\n",
              "      <td>0</td>\n",
              "      <td>0</td>\n",
              "      <td>630</td>\n",
              "      <td>0</td>\n",
              "      <td>310</td>\n",
              "      <td>630</td>\n",
              "      <td>310</td>\n",
              "      <td>630</td>\n",
              "      <td>...</td>\n",
              "      <td>0</td>\n",
              "      <td>0</td>\n",
              "      <td>0</td>\n",
              "      <td>0</td>\n",
              "      <td>137</td>\n",
              "      <td>0</td>\n",
              "      <td>137</td>\n",
              "      <td>0</td>\n",
              "      <td>0</td>\n",
              "      <td>1</td>\n",
              "    </tr>\n",
              "    <tr>\n",
              "      <th>4</th>\n",
              "      <td>0</td>\n",
              "      <td>0</td>\n",
              "      <td>0</td>\n",
              "      <td>0</td>\n",
              "      <td>630</td>\n",
              "      <td>0</td>\n",
              "      <td>310</td>\n",
              "      <td>630</td>\n",
              "      <td>310</td>\n",
              "      <td>630</td>\n",
              "      <td>...</td>\n",
              "      <td>0</td>\n",
              "      <td>0</td>\n",
              "      <td>0</td>\n",
              "      <td>0</td>\n",
              "      <td>135</td>\n",
              "      <td>0</td>\n",
              "      <td>135</td>\n",
              "      <td>0</td>\n",
              "      <td>0</td>\n",
              "      <td>1</td>\n",
              "    </tr>\n",
              "    <tr>\n",
              "      <th>5</th>\n",
              "      <td>0</td>\n",
              "      <td>0</td>\n",
              "      <td>0</td>\n",
              "      <td>0</td>\n",
              "      <td>1850</td>\n",
              "      <td>0</td>\n",
              "      <td>0</td>\n",
              "      <td>1850</td>\n",
              "      <td>0</td>\n",
              "      <td>0</td>\n",
              "      <td>...</td>\n",
              "      <td>0</td>\n",
              "      <td>0</td>\n",
              "      <td>0</td>\n",
              "      <td>0</td>\n",
              "      <td>223</td>\n",
              "      <td>0</td>\n",
              "      <td>0</td>\n",
              "      <td>0</td>\n",
              "      <td>0</td>\n",
              "      <td>1</td>\n",
              "    </tr>\n",
              "    <tr>\n",
              "      <th>6</th>\n",
              "      <td>0</td>\n",
              "      <td>0</td>\n",
              "      <td>0</td>\n",
              "      <td>0</td>\n",
              "      <td>1920</td>\n",
              "      <td>0</td>\n",
              "      <td>0</td>\n",
              "      <td>0</td>\n",
              "      <td>0</td>\n",
              "      <td>640</td>\n",
              "      <td>...</td>\n",
              "      <td>0</td>\n",
              "      <td>0</td>\n",
              "      <td>0</td>\n",
              "      <td>0</td>\n",
              "      <td>54</td>\n",
              "      <td>0</td>\n",
              "      <td>164</td>\n",
              "      <td>54</td>\n",
              "      <td>0</td>\n",
              "      <td>1</td>\n",
              "    </tr>\n",
              "    <tr>\n",
              "      <th>7</th>\n",
              "      <td>0</td>\n",
              "      <td>0</td>\n",
              "      <td>0</td>\n",
              "      <td>0</td>\n",
              "      <td>1880</td>\n",
              "      <td>0</td>\n",
              "      <td>0</td>\n",
              "      <td>1880</td>\n",
              "      <td>0</td>\n",
              "      <td>0</td>\n",
              "      <td>...</td>\n",
              "      <td>0</td>\n",
              "      <td>0</td>\n",
              "      <td>0</td>\n",
              "      <td>0</td>\n",
              "      <td>206</td>\n",
              "      <td>0</td>\n",
              "      <td>0</td>\n",
              "      <td>0</td>\n",
              "      <td>0</td>\n",
              "      <td>1</td>\n",
              "    </tr>\n",
              "    <tr>\n",
              "      <th>8</th>\n",
              "      <td>150</td>\n",
              "      <td>0</td>\n",
              "      <td>460</td>\n",
              "      <td>0</td>\n",
              "      <td>610</td>\n",
              "      <td>0</td>\n",
              "      <td>300</td>\n",
              "      <td>0</td>\n",
              "      <td>920</td>\n",
              "      <td>760</td>\n",
              "      <td>...</td>\n",
              "      <td>0</td>\n",
              "      <td>0</td>\n",
              "      <td>0</td>\n",
              "      <td>0</td>\n",
              "      <td>271</td>\n",
              "      <td>0</td>\n",
              "      <td>181</td>\n",
              "      <td>203</td>\n",
              "      <td>22</td>\n",
              "      <td>1</td>\n",
              "    </tr>\n",
              "    <tr>\n",
              "      <th>9</th>\n",
              "      <td>60</td>\n",
              "      <td>120</td>\n",
              "      <td>770</td>\n",
              "      <td>0</td>\n",
              "      <td>190</td>\n",
              "      <td>320</td>\n",
              "      <td>380</td>\n",
              "      <td>0</td>\n",
              "      <td>60</td>\n",
              "      <td>0</td>\n",
              "      <td>...</td>\n",
              "      <td>0</td>\n",
              "      <td>0</td>\n",
              "      <td>0</td>\n",
              "      <td>40</td>\n",
              "      <td>30</td>\n",
              "      <td>0</td>\n",
              "      <td>244</td>\n",
              "      <td>81</td>\n",
              "      <td>0</td>\n",
              "      <td>1</td>\n",
              "    </tr>\n",
              "  </tbody>\n",
              "</table>\n",
              "<p>10 rows × 55 columns</p>\n",
              "</div>"
            ],
            "text/plain": [
              "   word_freq_make  word_freq_address  word_freq_all  word_freq_3d  \\\n",
              "0               0                640            640             0   \n",
              "1             210                280            500             0   \n",
              "2              60                  0            710             0   \n",
              "3               0                  0              0             0   \n",
              "4               0                  0              0             0   \n",
              "5               0                  0              0             0   \n",
              "6               0                  0              0             0   \n",
              "7               0                  0              0             0   \n",
              "8             150                  0            460             0   \n",
              "9              60                120            770             0   \n",
              "\n",
              "   word_freq_our  word_freq_over  word_freq_remove  word_freq_internet  \\\n",
              "0            320               0                 0                   0   \n",
              "1            140             280               210                  70   \n",
              "2           1230             190               190                 120   \n",
              "3            630               0               310                 630   \n",
              "4            630               0               310                 630   \n",
              "5           1850               0                 0                1850   \n",
              "6           1920               0                 0                   0   \n",
              "7           1880               0                 0                1880   \n",
              "8            610               0               300                   0   \n",
              "9            190             320               380                   0   \n",
              "\n",
              "   word_freq_order  word_freq_mail  ...  word_freq_edu  word_freq_table  \\\n",
              "0                0               0  ...              0                0   \n",
              "1                0             940  ...              0                0   \n",
              "2              640             250  ...             60                0   \n",
              "3              310             630  ...              0                0   \n",
              "4              310             630  ...              0                0   \n",
              "5                0               0  ...              0                0   \n",
              "6                0             640  ...              0                0   \n",
              "7                0               0  ...              0                0   \n",
              "8              920             760  ...              0                0   \n",
              "9               60               0  ...              0                0   \n",
              "\n",
              "   word_freq_conference  char_freq_;  char_freq_(  char_freq_[  char_freq_!  \\\n",
              "0                     0            0            0            0          778   \n",
              "1                     0            0          132            0          372   \n",
              "2                     0           10          143            0          276   \n",
              "3                     0            0          137            0          137   \n",
              "4                     0            0          135            0          135   \n",
              "5                     0            0          223            0            0   \n",
              "6                     0            0           54            0          164   \n",
              "7                     0            0          206            0            0   \n",
              "8                     0            0          271            0          181   \n",
              "9                     0           40           30            0          244   \n",
              "\n",
              "   char_freq_$  char_freq_#  spam  \n",
              "0            0            0     1  \n",
              "1          180           48     1  \n",
              "2          184           10     1  \n",
              "3            0            0     1  \n",
              "4            0            0     1  \n",
              "5            0            0     1  \n",
              "6           54            0     1  \n",
              "7            0            0     1  \n",
              "8          203           22     1  \n",
              "9           81            0     1  \n",
              "\n",
              "[10 rows x 55 columns]"
            ]
          },
          "execution_count": 14,
          "metadata": {},
          "output_type": "execute_result"
        }
      ],
      "source": [
        "dataset = pd.read_csv(\"spambase.csv\") # cargando los datos desde un CSV\n",
        "dataset.head(10)"
      ]
    },
    {
      "cell_type": "markdown",
      "id": "aF6w3ZidEOKT",
      "metadata": {
        "id": "aF6w3ZidEOKT"
      },
      "source": [
        "# Nueva sección"
      ]
    },
    {
      "cell_type": "markdown",
      "id": "fd5762c49a3369dc",
      "metadata": {
        "collapsed": false,
        "id": "fd5762c49a3369dc",
        "jupyter": {
          "outputs_hidden": false
        }
      },
      "source": [
        "Para obtener las palábras más usadas podemos hacer un `groupby`:"
      ]
    },
    {
      "cell_type": "code",
      "execution_count": null,
      "id": "aa93f67db28da6ff",
      "metadata": {
        "ExecuteTime": {
          "end_time": "2024-04-11T15:52:16.147047Z",
          "start_time": "2024-04-11T15:52:16.143891Z"
        },
        "id": "aa93f67db28da6ff",
        "jupyter": {
          "outputs_hidden": false
        }
      },
      "outputs": [],
      "source": [
        "column_sum = dataset.groupby(by=\"spam\", as_index=False).sum()"
      ]
    },
    {
      "cell_type": "code",
      "execution_count": null,
      "id": "xQrCa4ArFyCR",
      "metadata": {
        "colab": {
          "base_uri": "https://localhost:8080/",
          "height": 161
        },
        "id": "xQrCa4ArFyCR",
        "outputId": "83402a25-e74c-4ded-e081-d7ba48f7a4bd"
      },
      "outputs": [
        {
          "data": {
            "text/html": [
              "<div>\n",
              "<style scoped>\n",
              "    .dataframe tbody tr th:only-of-type {\n",
              "        vertical-align: middle;\n",
              "    }\n",
              "\n",
              "    .dataframe tbody tr th {\n",
              "        vertical-align: top;\n",
              "    }\n",
              "\n",
              "    .dataframe thead th {\n",
              "        text-align: right;\n",
              "    }\n",
              "</style>\n",
              "<table border=\"1\" class=\"dataframe\">\n",
              "  <thead>\n",
              "    <tr style=\"text-align: right;\">\n",
              "      <th></th>\n",
              "      <th>spam</th>\n",
              "      <th>word_freq_make</th>\n",
              "      <th>word_freq_address</th>\n",
              "      <th>word_freq_all</th>\n",
              "      <th>word_freq_3d</th>\n",
              "      <th>word_freq_our</th>\n",
              "      <th>word_freq_over</th>\n",
              "      <th>word_freq_remove</th>\n",
              "      <th>word_freq_internet</th>\n",
              "      <th>word_freq_order</th>\n",
              "      <th>...</th>\n",
              "      <th>word_freq_re</th>\n",
              "      <th>word_freq_edu</th>\n",
              "      <th>word_freq_table</th>\n",
              "      <th>word_freq_conference</th>\n",
              "      <th>char_freq_;</th>\n",
              "      <th>char_freq_(</th>\n",
              "      <th>char_freq_[</th>\n",
              "      <th>char_freq_!</th>\n",
              "      <th>char_freq_$</th>\n",
              "      <th>char_freq_#</th>\n",
              "    </tr>\n",
              "  </thead>\n",
              "  <tbody>\n",
              "    <tr>\n",
              "      <th>0</th>\n",
              "      <td>0</td>\n",
              "      <td>204860</td>\n",
              "      <td>681569</td>\n",
              "      <td>559220</td>\n",
              "      <td>2470</td>\n",
              "      <td>504739</td>\n",
              "      <td>124190</td>\n",
              "      <td>26160</td>\n",
              "      <td>107100</td>\n",
              "      <td>106080</td>\n",
              "      <td>...</td>\n",
              "      <td>1159138</td>\n",
              "      <td>800669</td>\n",
              "      <td>22840</td>\n",
              "      <td>142820</td>\n",
              "      <td>140182</td>\n",
              "      <td>442116</td>\n",
              "      <td>63242</td>\n",
              "      <td>306634</td>\n",
              "      <td>32475</td>\n",
              "      <td>60536</td>\n",
              "    </tr>\n",
              "    <tr>\n",
              "      <th>1</th>\n",
              "      <td>1</td>\n",
              "      <td>276190</td>\n",
              "      <td>298510</td>\n",
              "      <td>732080</td>\n",
              "      <td>298550</td>\n",
              "      <td>931799</td>\n",
              "      <td>317050</td>\n",
              "      <td>499309</td>\n",
              "      <td>377360</td>\n",
              "      <td>308320</td>\n",
              "      <td>...</td>\n",
              "      <td>226790</td>\n",
              "      <td>26700</td>\n",
              "      <td>2210</td>\n",
              "      <td>3810</td>\n",
              "      <td>37299</td>\n",
              "      <td>197563</td>\n",
              "      <td>14864</td>\n",
              "      <td>931352</td>\n",
              "      <td>316328</td>\n",
              "      <td>143003</td>\n",
              "    </tr>\n",
              "  </tbody>\n",
              "</table>\n",
              "<p>2 rows × 55 columns</p>\n",
              "</div>"
            ],
            "text/plain": [
              "   spam  word_freq_make  word_freq_address  word_freq_all  word_freq_3d  \\\n",
              "0     0          204860             681569         559220          2470   \n",
              "1     1          276190             298510         732080        298550   \n",
              "\n",
              "   word_freq_our  word_freq_over  word_freq_remove  word_freq_internet  \\\n",
              "0         504739          124190             26160              107100   \n",
              "1         931799          317050            499309              377360   \n",
              "\n",
              "   word_freq_order  ...  word_freq_re  word_freq_edu  word_freq_table  \\\n",
              "0           106080  ...       1159138         800669            22840   \n",
              "1           308320  ...        226790          26700             2210   \n",
              "\n",
              "   word_freq_conference  char_freq_;  char_freq_(  char_freq_[  char_freq_!  \\\n",
              "0                142820       140182       442116        63242       306634   \n",
              "1                  3810        37299       197563        14864       931352   \n",
              "\n",
              "   char_freq_$  char_freq_#  \n",
              "0        32475        60536  \n",
              "1       316328       143003  \n",
              "\n",
              "[2 rows x 55 columns]"
            ]
          },
          "execution_count": 16,
          "metadata": {},
          "output_type": "execute_result"
        }
      ],
      "source": [
        "column_sum.head()"
      ]
    },
    {
      "cell_type": "code",
      "execution_count": null,
      "id": "w-9MqK8EHSxR",
      "metadata": {
        "colab": {
          "base_uri": "https://localhost:8080/"
        },
        "id": "w-9MqK8EHSxR",
        "outputId": "8a44a794-72ef-4fb6-d612-38f387e7d86d"
      },
      "outputs": [
        {
          "name": "stdout",
          "output_type": "stream",
          "text": [
            "Top 20 palabras más comunes en correos spam:\n",
            "word_freq_you         4105599\n",
            "word_freq_your        2502597\n",
            "word_freq_will         997100\n",
            "word_freq_free         939790\n",
            "word_freq_our          931799\n",
            "word_freq_all          732080\n",
            "word_freq_mail         635470\n",
            "word_freq_email        578759\n",
            "word_freq_business     521250\n",
            "word_freq_remove       499309\n",
            "word_freq_000          447910\n",
            "word_freq_font         431560\n",
            "word_freq_money        385950\n",
            "word_freq_internet     377360\n",
            "word_freq_credit       372610\n",
            "word_freq_over         317050\n",
            "word_freq_order        308320\n",
            "word_freq_3d           298550\n",
            "word_freq_address      298510\n",
            "word_freq_make         276190\n",
            "dtype: int64\n",
            "\n",
            "Top 20 palabras más comunes en correos no spam:\n",
            "word_freq_you           3541702\n",
            "word_freq_george        3527559\n",
            "word_freq_hp            2496576\n",
            "word_freq_will          1495268\n",
            "word_freq_your          1223098\n",
            "word_freq_hpl           1204398\n",
            "word_freq_re            1159138\n",
            "word_freq_edu            800669\n",
            "word_freq_address        681569\n",
            "word_freq_meeting        604460\n",
            "word_freq_all            559220\n",
            "word_freq_1999           551310\n",
            "word_freq_650            540330\n",
            "word_freq_our            504739\n",
            "word_freq_85             472440\n",
            "word_freq_mail           466070\n",
            "word_freq_labs           462400\n",
            "word_freq_lab            453870\n",
            "word_freq_data           420950\n",
            "word_freq_technology     394980\n",
            "dtype: int64\n"
          ]
        }
      ],
      "source": [
        "import pandas as pd\n",
        "\n",
        "# Suponiendo que column_sum es tu DataFrame\n",
        "# Dividir los datos en spam y no spam\n",
        "spam_data = column_sum[column_sum['spam'] == 1]\n",
        "no_spam_data = column_sum[column_sum['spam'] == 0]\n",
        "\n",
        "# Obtener las columnas que representan las frecuencias de palabras (todas las columnas que comienzan con 'word_freq_')\n",
        "word_columns = [col for col in column_sum.columns if col.startswith('word_freq_')]\n",
        "\n",
        "# Sumar las frecuencias de palabras para cada grupo\n",
        "spam_word_frequencies = spam_data[word_columns].sum()\n",
        "no_spam_word_frequencies = no_spam_data[word_columns].sum()\n",
        "\n",
        "# Obtener las 10 palabras más frecuentes en cada grupo\n",
        "top_10_spam_words = spam_word_frequencies.sort_values(ascending=False).head(20)\n",
        "top_10_no_spam_words = no_spam_word_frequencies.sort_values(ascending=False).head(20)"
      ]
    },
    {
      "cell_type": "markdown",
      "id": "jLx5ntpUxgki",
      "metadata": {
        "id": "jLx5ntpUxgki"
      },
      "source": [
        "1) ¿Cuáles son las 10 palabras más encontradas en correos con SPAM y en correos No SPAM? ¿Hay palabras en común? ¿Algunas llaman la atención?"
      ]
    },
    {
      "cell_type": "code",
      "execution_count": null,
      "id": "b2f6c785",
      "metadata": {
        "id": "b2f6c785",
        "outputId": "03f9e310-abd3-4163-b166-ccb01055b6cb"
      },
      "outputs": [
        {
          "name": "stdout",
          "output_type": "stream",
          "text": [
            "Top 20 palabras más comunes en correos spam:\n",
            "word_freq_you         4105599\n",
            "word_freq_your        2502597\n",
            "word_freq_will         997100\n",
            "word_freq_free         939790\n",
            "word_freq_our          931799\n",
            "word_freq_all          732080\n",
            "word_freq_mail         635470\n",
            "word_freq_email        578759\n",
            "word_freq_business     521250\n",
            "word_freq_remove       499309\n",
            "word_freq_000          447910\n",
            "word_freq_font         431560\n",
            "word_freq_money        385950\n",
            "word_freq_internet     377360\n",
            "word_freq_credit       372610\n",
            "word_freq_over         317050\n",
            "word_freq_order        308320\n",
            "word_freq_3d           298550\n",
            "word_freq_address      298510\n",
            "word_freq_make         276190\n",
            "dtype: int64\n",
            "\n",
            "Top 20 palabras más comunes en correos no spam:\n",
            "word_freq_you           3541702\n",
            "word_freq_george        3527559\n",
            "word_freq_hp            2496576\n",
            "word_freq_will          1495268\n",
            "word_freq_your          1223098\n",
            "word_freq_hpl           1204398\n",
            "word_freq_re            1159138\n",
            "word_freq_edu            800669\n",
            "word_freq_address        681569\n",
            "word_freq_meeting        604460\n",
            "word_freq_all            559220\n",
            "word_freq_1999           551310\n",
            "word_freq_650            540330\n",
            "word_freq_our            504739\n",
            "word_freq_85             472440\n",
            "word_freq_mail           466070\n",
            "word_freq_labs           462400\n",
            "word_freq_lab            453870\n",
            "word_freq_data           420950\n",
            "word_freq_technology     394980\n",
            "dtype: int64\n"
          ]
        }
      ],
      "source": [
        "# Imprimir los resultados\n",
        "print(\"Top 20 palabras más comunes en correos spam:\")\n",
        "print(top_10_spam_words)\n",
        "\n",
        "print(\"\\nTop 20 palabras más comunes en correos no spam:\")\n",
        "print(top_10_no_spam_words)"
      ]
    },
    {
      "cell_type": "markdown",
      "id": "WxbMEVDlk2tu",
      "metadata": {
        "id": "WxbMEVDlk2tu"
      },
      "source": [
        "Palabras frecuentes que llamaron la atencion en los email de Spam\n",
        "\n",
        "word_freq_email        578759\n",
        "\n",
        "word_freq_business     521250\n",
        "\n",
        "word_freq_money        385950\n",
        "\n",
        "word_freq_internet     377360\n",
        "\n",
        "word_freq_credit       372610"
      ]
    },
    {
      "cell_type": "code",
      "execution_count": null,
      "id": "p_T8kqXXkoth",
      "metadata": {
        "colab": {
          "base_uri": "https://localhost:8080/"
        },
        "id": "p_T8kqXXkoth",
        "outputId": "2bdf1483-f35c-4659-9c63-80d8ddcae03a"
      },
      "outputs": [
        {
          "name": "stdout",
          "output_type": "stream",
          "text": [
            "Top 20 palabras menos comunes en correos spam:\n",
            "word_freq_cs              100\n",
            "word_freq_857             940\n",
            "word_freq_lab            1240\n",
            "word_freq_table          2210\n",
            "word_freq_telnet         2310\n",
            "word_freq_george         2810\n",
            "word_freq_415            3220\n",
            "word_freq_conference     3810\n",
            "word_freq_meeting        4430\n",
            "word_freq_parts          8540\n",
            "word_freq_labs          10820\n",
            "word_freq_project       11320\n",
            "word_freq_85            12560\n",
            "word_freq_original      15320\n",
            "word_freq_hpl           16630\n",
            "word_freq_pm            22530\n",
            "word_freq_data          26400\n",
            "word_freq_edu           26700\n",
            "word_freq_hp            31690\n",
            "word_freq_650           34080\n",
            "dtype: int64\n",
            "\n",
            "Top 20 palabras menos comunes en correos no spam:\n",
            "word_freq_3d              2470\n",
            "word_freq_000            19760\n",
            "word_freq_credit         21130\n",
            "word_freq_table          22840\n",
            "word_freq_addresses      23190\n",
            "word_freq_remove         26160\n",
            "word_freq_money          47780\n",
            "word_freq_parts          52200\n",
            "word_freq_receive        60530\n",
            "word_freq_order         106080\n",
            "word_freq_internet      107100\n",
            "word_freq_report        118220\n",
            "word_freq_over          124190\n",
            "word_freq_font          126090\n",
            "word_freq_business      134790\n",
            "word_freq_conference    142820\n",
            "word_freq_people        171920\n",
            "word_freq_original      196780\n",
            "word_freq_cs            200810\n",
            "word_freq_make          204860\n",
            "dtype: int64\n"
          ]
        }
      ],
      "source": [
        "# Obtener las 10 palabras menos frecuentes en cada grupo\n",
        "bottom_10_spam_words = spam_word_frequencies.sort_values(ascending=True).head(20)\n",
        "bottom_10_no_spam_words = no_spam_word_frequencies.sort_values(ascending=True).head(20)\n",
        "\n",
        "# Imprimir los resultados\n",
        "print(\"Top 20 palabras menos comunes en correos spam:\")\n",
        "print(bottom_10_spam_words)\n",
        "\n",
        "print(\"\\nTop 20 palabras menos comunes en correos no spam:\")\n",
        "print(bottom_10_no_spam_words)\n"
      ]
    },
    {
      "cell_type": "markdown",
      "id": "Xe6lAfAPkKxD",
      "metadata": {
        "id": "Xe6lAfAPkKxD"
      },
      "source": [
        "Palabras MENOS Frecuentes que llamaron la atencion en los email NO Spam\n",
        "\n",
        "word_freq_credit         21130\n",
        "\n",
        "word_freq_table          22840\n",
        "\n",
        "word_freq_money          47780\n",
        "\n",
        "word_freq_internet      107100\n",
        "\n",
        "word_freq_business      134790"
      ]
    },
    {
      "cell_type": "code",
      "execution_count": null,
      "id": "a05390e27958e98b",
      "metadata": {
        "ExecuteTime": {
          "end_time": "2024-04-11T15:52:16.150961Z",
          "start_time": "2024-04-11T15:52:16.147743Z"
        },
        "id": "a05390e27958e98b",
        "jupyter": {
          "outputs_hidden": false
        }
      },
      "outputs": [],
      "source": [
        "# Obtenemos los atributos y target\n",
        "X = (dataset.drop(columns=\"spam\") * 100).astype(int)\n",
        "#X = dataset2.drop(columns=\"spam\")\n",
        "y = dataset[\"spam\"]"
      ]
    },
    {
      "cell_type": "markdown",
      "id": "686665f4a0ce53e5",
      "metadata": {
        "collapsed": false,
        "id": "686665f4a0ce53e5",
        "jupyter": {
          "outputs_hidden": false
        }
      },
      "source": [
        "Se separa el dataset en entrenamiento y evaluación"
      ]
    },
    {
      "cell_type": "markdown",
      "id": "5iJFbGK4xlwD",
      "metadata": {
        "id": "5iJFbGK4xlwD"
      },
      "source": [
        "2) Separe el conjunto de datos en un conjunto de entrenamiento y un conjunto de prueba (70% y 30% respectivamente)."
      ]
    },
    {
      "cell_type": "code",
      "execution_count": null,
      "id": "a05dd9a86a0270d1",
      "metadata": {
        "ExecuteTime": {
          "end_time": "2024-04-11T15:52:16.155862Z",
          "start_time": "2024-04-11T15:52:16.151805Z"
        },
        "id": "a05dd9a86a0270d1",
        "jupyter": {
          "outputs_hidden": false
        }
      },
      "outputs": [],
      "source": [
        "X_train, X_test, y_train, y_test= train_test_split(X, y, test_size = 0.3, random_state=42)"
      ]
    },
    {
      "cell_type": "markdown",
      "id": "VKKMBVlhx3xz",
      "metadata": {
        "id": "VKKMBVlhx3xz"
      },
      "source": [
        "3) Utilizando un clasificador de Bayes ingenuo, entrene con el conjunto de entrenamiento."
      ]
    },
    {
      "cell_type": "code",
      "execution_count": null,
      "id": "_h7BQcdoyhTG",
      "metadata": {
        "colab": {
          "base_uri": "https://localhost:8080/"
        },
        "id": "_h7BQcdoyhTG",
        "outputId": "96f8dcc1-7698-4a3b-b89b-be771f029fad"
      },
      "outputs": [
        {
          "name": "stdout",
          "output_type": "stream",
          "text": [
            "Precisión media del modelo (CV): 86.63%\n",
            "Desviación estándar de la precisión (CV): 0.67%\n",
            "Precisión del modelo: 87.26%\n",
            "\n",
            "Reporte de clasificación:\n",
            "              precision    recall  f1-score   support\n",
            "\n",
            "           0       0.97      0.81      0.88       804\n",
            "           1       0.78      0.96      0.86       577\n",
            "\n",
            "    accuracy                           0.87      1381\n",
            "   macro avg       0.88      0.89      0.87      1381\n",
            "weighted avg       0.89      0.87      0.87      1381\n",
            "\n"
          ]
        }
      ],
      "source": [
        "from sklearn.naive_bayes import MultinomialNB\n",
        "from sklearn.model_selection import cross_val_score, KFold\n",
        "from sklearn.metrics import accuracy_score, confusion_matrix, classification_report\n",
        "\n",
        "# Paso 1: Definir el modelo Naive Bayes\n",
        "nb = MultinomialNB()\n",
        "\n",
        "# Paso 2: Realizar validación cruzada\n",
        "n_splits = 5  # Número de particiones para k-fold cross-validation\n",
        "kf = KFold(n_splits=n_splits, shuffle=True, random_state=42)\n",
        "cv_scores = cross_val_score(nb, X, y, cv=kf, scoring='accuracy')\n",
        "\n",
        "print(f\"Precisión media del modelo (CV): {np.mean(cv_scores) * 100:.2f}%\")\n",
        "print(f\"Desviación estándar de la precisión (CV): {np.std(cv_scores) * 100:.2f}%\")\n",
        "\n",
        "# Utilizamos la validación cruzada K-Fold por las siguientes razones:\n",
        "# 1. Evaluación robusta del rendimiento del modelo en diferentes subconjuntos de datos.\n",
        "# 2. Uso eficiente de datos limitados para entrenamiento y validación.\n",
        "# 3. Detección de posible sobreajuste al comparar con el conjunto de prueba final.\n",
        "# 4. Estimación de la estabilidad del modelo mediante la desviación estándar de los puntajes.\n",
        "\n",
        "# Paso 3: Entrenar el modelo Naive Bayes\n",
        "nb.fit(X_train, y_train)\n",
        "\n",
        "# Paso 4: Hacer predicciones en el conjunto de prueba\n",
        "y_pred = nb.predict(X_test)\n",
        "\n",
        "# Paso 5: Evaluar el modelo\n",
        "# Calcular la precisión del modelo\n",
        "accuracy = accuracy_score(y_test, y_pred)\n",
        "print(f\"Precisión del modelo: {accuracy * 100:.2f}%\")\n",
        "\n",
        "# Reporte de clasificación (precisión, recall, F1 score)\n",
        "print(\"\\nReporte de clasificación:\")\n",
        "print(classification_report(y_test, y_pred))\n"
      ]
    },
    {
      "cell_type": "code",
      "execution_count": null,
      "id": "f6cdf03b",
      "metadata": {
        "id": "f6cdf03b",
        "outputId": "b1ec1524-2300-402e-88e9-f7f06569d6bf"
      },
      "outputs": [
        {
          "name": "stdout",
          "output_type": "stream",
          "text": [
            "Matriz de confusión:\n",
            "[[650 154]\n",
            " [ 22 555]]\n"
          ]
        },
        {
          "data": {
            "image/png": "[encoded data removed]",
            "text/plain": [
              "<Figure size 1000x700 with 2 Axes>"
            ]
          },
          "metadata": {},
          "output_type": "display_data"
        }
      ],
      "source": [
        "from sklearn.metrics import confusion_matrix\n",
        "import seaborn as sns\n",
        "import matplotlib.pyplot as plt\n",
        "\n",
        "# Mostrar la matriz de confusión\n",
        "conf_matrix = confusion_matrix(y_test, y_pred)\n",
        "print(\"Matriz de confusión:\")\n",
        "print(conf_matrix)\n",
        "\n",
        "# Visualizar la matriz de confusión\n",
        "plt.figure(figsize=(10,7))\n",
        "sns.heatmap(conf_matrix, annot=True, fmt='d', cmap='Blues')\n",
        "plt.title('Matriz de Confusión')\n",
        "plt.ylabel('Etiqueta Verdadera')\n",
        "plt.xlabel('Etiqueta Predicha')\n",
        "plt.show()"
      ]
    },
    {
      "cell_type": "code",
      "execution_count": null,
      "id": "7Jc7rUAr4XqN",
      "metadata": {
        "colab": {
          "base_uri": "https://localhost:8080/",
          "height": 489
        },
        "id": "7Jc7rUAr4XqN",
        "outputId": "f3459072-5660-44ae-d82d-86770502f8ac"
      },
      "outputs": [
        {
          "name": "stdout",
          "output_type": "stream",
          "text": [
            "AUC: 0.89\n"
          ]
        },
        {
          "data": {
            "image/png": "[encoded data removed]",
            "text/plain": [
              "<Figure size 640x480 with 1 Axes>"
            ]
          },
          "metadata": {},
          "output_type": "display_data"
        }
      ],
      "source": [
        "from sklearn.metrics import roc_curve, roc_auc_score\n",
        "\n",
        "# Paso 1: Obtener las probabilidades predichas del modelo de Bayes\n",
        "# Usamos predict_proba para obtener las probabilidades de clase\n",
        "y_prob = nb.predict_proba(X_test)[:, 1]  # Probabilidades de la clase \"1\" (spam)\n",
        "\n",
        "# Paso 2: Calcular la curva ROC\n",
        "fpr, tpr, thresholds = roc_curve(y_test, y_prob)\n",
        "\n",
        "# Paso 3: Calcular el AUC\n",
        "auc = roc_auc_score(y_test, y_prob)\n",
        "print(f\"AUC: {auc:.2f}\")\n",
        "\n",
        "# Paso 4: Graficar la curva ROC\n",
        "plt.figure()\n",
        "plt.plot(fpr, tpr, color='darkorange', lw=2, label=f'ROC curve (area = {auc:.2f})')\n",
        "plt.plot([0, 1], [0, 1], color='navy', lw=2, linestyle='--')  # Línea diagonal\n",
        "plt.xlim([0.0, 1.0])\n",
        "plt.ylim([0.0, 1.05])\n",
        "plt.xlabel('False Positive Rate')\n",
        "plt.ylabel('True Positive Rate')\n",
        "plt.title('Receiver Operating Characteristic (ROC)- Bayes')\n",
        "plt.legend(loc=\"lower right\")\n",
        "plt.show()\n"
      ]
    },
    {
      "cell_type": "markdown",
      "id": "yhembnuizHJ7",
      "metadata": {
        "id": "yhembnuizHJ7"
      },
      "source": [
        "4) Utilizando un clasificador de Regresión Logística, entrene con el conjunto de entrenamiento (en este caso, normalice los datos)."
      ]
    },
    {
      "cell_type": "markdown",
      "id": "4deca5d28cadd43b",
      "metadata": {
        "collapsed": false,
        "id": "4deca5d28cadd43b",
        "jupyter": {
          "outputs_hidden": false
        }
      },
      "source": [
        "Escalamos para aplicar en regresión logística"
      ]
    },
    {
      "cell_type": "code",
      "execution_count": null,
      "id": "712e38ef8afee400",
      "metadata": {
        "ExecuteTime": {
          "end_time": "2024-04-11T15:52:16.162957Z",
          "start_time": "2024-04-11T15:52:16.156768Z"
        },
        "id": "712e38ef8afee400",
        "jupyter": {
          "outputs_hidden": false
        }
      },
      "outputs": [],
      "source": [
        "scaler = MinMaxScaler()\n",
        "X_train_scaled = scaler.fit_transform(X_train)\n",
        "X_test_scaled = scaler.transform(X_test)\n",
        "\n",
        "# Lo transformamos en DataFrames\n",
        "X_train_scaled = pd.DataFrame(X_train_scaled, columns=X.columns)\n",
        "X_test_scaled = pd.DataFrame(X_test_scaled, columns=X.columns)"
      ]
    },
    {
      "cell_type": "code",
      "execution_count": null,
      "id": "76a9e6364b4d74b",
      "metadata": {
        "ExecuteTime": {
          "end_time": "2024-04-11T15:52:16.168004Z",
          "start_time": "2024-04-11T15:52:16.164460Z"
        },
        "colab": {
          "base_uri": "https://localhost:8080/"
        },
        "id": "76a9e6364b4d74b",
        "jupyter": {
          "outputs_hidden": false
        },
        "outputId": "2e824a60-0cd6-43db-f362-e64460838746"
      },
      "outputs": [
        {
          "name": "stdout",
          "output_type": "stream",
          "text": [
            "Precisión media del modelo (CV): 87.36%\n",
            "Desviación estándar de la precisión (CV): 0.76%\n",
            "Precisión del modelo: 89.07%\n",
            "\n",
            "Reporte de clasificación:\n",
            "              precision    recall  f1-score   support\n",
            "\n",
            "           0       0.87      0.96      0.91       804\n",
            "           1       0.93      0.80      0.86       577\n",
            "\n",
            "    accuracy                           0.89      1381\n",
            "   macro avg       0.90      0.88      0.88      1381\n",
            "weighted avg       0.89      0.89      0.89      1381\n",
            "\n"
          ]
        }
      ],
      "source": [
        "from sklearn.linear_model import LogisticRegression\n",
        "from sklearn.metrics import accuracy_score, classification_report\n",
        "\n",
        "\n",
        "# Convertir los datos escalados en DataFrames para mantener las etiquetas de las columnas\n",
        "X_train_scaled = pd.DataFrame(X_train_scaled, columns=X.columns)\n",
        "X_test_scaled = pd.DataFrame(X_test_scaled, columns=X.columns)\n",
        "\n",
        "\n",
        "# Realizar validación cruzada\n",
        "n_splits = 5\n",
        "kf = KFold(n_splits=n_splits, shuffle=True, random_state=42)\n",
        "logreg = LogisticRegression(random_state=42, max_iter=1000)\n",
        "\n",
        "cv_scores = cross_val_score(logreg, X_train_scaled, y_train, cv=kf, scoring='accuracy')\n",
        "\n",
        "print(f\"Precisión media del modelo (CV): {np.mean(cv_scores) * 100:.2f}%\")\n",
        "print(f\"Desviación estándar de la precisión (CV): {np.std(cv_scores) * 100:.2f}%\")\n",
        "\n",
        "\n",
        "# Paso 3: Entrenar el modelo de regresión logística\n",
        "logreg.fit(X_train_scaled, y_train)\n",
        "\n",
        "# Paso 4: Hacer predicciones en el conjunto de prueba\n",
        "y_pred = logreg.predict(X_test_scaled)\n",
        "\n",
        "# Paso 5: Evaluar el modelo\n",
        "# Calcular la precisión del modelo\n",
        "accuracy = accuracy_score(y_test, y_pred)\n",
        "print(f\"Precisión del modelo: {accuracy * 100:.2f}%\")\n",
        "\n",
        "# Reporte de clasificación (precisión, recall, F1 score)\n",
        "print(\"\\nReporte de clasificación:\")\n",
        "print(classification_report(y_test, y_pred))\n"
      ]
    },
    {
      "cell_type": "code",
      "execution_count": null,
      "id": "5250076f",
      "metadata": {
        "id": "5250076f",
        "outputId": "bb760b31-0134-4005-bbfb-1fbc5ce5694a"
      },
      "outputs": [
        {
          "name": "stdout",
          "output_type": "stream",
          "text": [
            "Matriz de confusión:\n",
            "[[769  35]\n",
            " [116 461]]\n"
          ]
        },
        {
          "data": {
            "image/png": "[encoded data removed]",
            "text/plain": [
              "<Figure size 1000x700 with 2 Axes>"
            ]
          },
          "metadata": {},
          "output_type": "display_data"
        }
      ],
      "source": [
        "from sklearn.metrics import confusion_matrix\n",
        "import seaborn as sns\n",
        "import matplotlib.pyplot as plt\n",
        "\n",
        "# Mostrar la matriz de confusión\n",
        "conf_matrix = confusion_matrix(y_test, y_pred)\n",
        "print(\"Matriz de confusión:\")\n",
        "print(conf_matrix)\n",
        "\n",
        "# Visualizar la matriz de confusión\n",
        "plt.figure(figsize=(10,7))\n",
        "sns.heatmap(conf_matrix, annot=True, fmt='d', cmap='Blues')\n",
        "plt.title('Matriz de Confusión')\n",
        "plt.ylabel('Etiqueta Verdadera')\n",
        "plt.xlabel('Etiqueta Predicha')\n",
        "plt.show()"
      ]
    },
    {
      "cell_type": "code",
      "execution_count": null,
      "id": "-9giDcrh4tGs",
      "metadata": {
        "colab": {
          "base_uri": "https://localhost:8080/",
          "height": 489
        },
        "id": "-9giDcrh4tGs",
        "outputId": "1cbfa415-377d-4dc8-e668-625145ec38ff"
      },
      "outputs": [
        {
          "name": "stdout",
          "output_type": "stream",
          "text": [
            "AUC (Regresión Logística): 0.95\n"
          ]
        },
        {
          "data": {
            "image/png": "[encoded data removed]",
            "text/plain": [
              "<Figure size 640x480 with 1 Axes>"
            ]
          },
          "metadata": {},
          "output_type": "display_data"
        }
      ],
      "source": [
        "from sklearn.metrics import roc_curve, roc_auc_score\n",
        "\n",
        "# Paso 1: Obtener las probabilidades predichas del modelo de regresión logística\n",
        "# Usamos predict_proba para obtener las probabilidades de clase\n",
        "y_prob_logreg = logreg.predict_proba(X_test_scaled)[:, 1]  # Probabilidades de la clase \"1\" (spam)\n",
        "\n",
        "# Paso 2: Calcular la curva ROC\n",
        "fpr_logreg, tpr_logreg, thresholds_logreg = roc_curve(y_test, y_prob_logreg)\n",
        "\n",
        "# Paso 3: Calcular el AUC\n",
        "auc_logreg = roc_auc_score(y_test, y_prob_logreg)\n",
        "print(f\"AUC (Regresión Logística): {auc_logreg:.2f}\")\n",
        "\n",
        "# Paso 4: Graficar la curva ROC\n",
        "plt.figure()\n",
        "plt.plot(fpr_logreg, tpr_logreg, color='darkorange', lw=2, label=f'ROC curve (area = {auc_logreg:.2f})')\n",
        "plt.plot([0, 1], [0, 1], color='navy', lw=2, linestyle='--')  # Línea diagonal para referencia\n",
        "plt.xlim([0.0, 1.0])\n",
        "plt.ylim([0.0, 1.05])\n",
        "plt.xlabel('False Positive Rate')\n",
        "plt.ylabel('True Positive Rate')\n",
        "plt.title('Receiver Operating Characteristic (ROC) - Regresión Logística')\n",
        "plt.legend(loc=\"lower right\")\n",
        "plt.show()\n"
      ]
    },
    {
      "cell_type": "markdown",
      "id": "EKhYF8Ha3rRe",
      "metadata": {
        "id": "EKhYF8Ha3rRe"
      },
      "source": [
        "5) Calcule la matriz de confusión del conjunto de evaluación para ambos modelos. ¿Qué tipo de error comete más cada modelo? ¿Cuál de los dos tipos de error crees que es más importante para este problema?"
      ]
    },
    {
      "cell_type": "markdown",
      "id": "v7WzJqHi2-i1",
      "metadata": {
        "id": "v7WzJqHi2-i1"
      },
      "source": [
        "El modelo de regresion logistica es mejor ya que los falsos positivos son menores que en el de Bayes.\n",
        "\n",
        "Regresion Logistica\n",
        "35: Correos no spam incorrectamente clasificados como spam (Falsos Positivos).\n",
        "\n",
        "Bayes\n",
        "154: Correos no spam incorrectamente clasificados como spam (Falsos Positivos)"
      ]
    },
    {
      "cell_type": "markdown",
      "id": "vGH-6w3i36K0",
      "metadata": {
        "id": "vGH-6w3i36K0"
      },
      "source": [
        "6) Calcule la precisión y la recuperación de ambos modelos. Para cada métrica, ¿cuál es el mejor modelo? ¿Cómo se relacionan estas métricas con los tipos de errores analizados en el punto anterior? Expanda su respuesta."
      ]
    },
    {
      "cell_type": "markdown",
      "id": "v3DsASOq5_ct",
      "metadata": {
        "id": "v3DsASOq5_ct"
      },
      "source": [
        "La precision dio mejor en la regresion logistica al igual que el Recall. Sinembargo el recall es la medicion mas importante ya que clasificar un correo DESEADO como SPAM es mas grave que clasificar un correo SPAM como DESEANO."
      ]
    },
    {
      "cell_type": "markdown",
      "id": "vtbOQa3_5_ws",
      "metadata": {
        "id": "vtbOQa3_5_ws"
      },
      "source": [
        "7) Obtenga la curva ROC y el AUC (Área Bajo la Curva ROC) de ambos modelos."
      ]
    },
    {
      "cell_type": "markdown",
      "id": "kCdgUbJz6149",
      "metadata": {
        "id": "kCdgUbJz6149"
      },
      "source": [
        "Usamos predict_proba() del modelo de regresión logística (logreg) para obtener las probabilidades predichas para la clase \"1\" (spam). Como mencionamos antes, el índice [:, 1] se utiliza para obtener las probabilidades de que un correo sea spam.\n",
        "\n",
        "Calcular la curva ROC:\n",
        "\n",
        "\n",
        "Usamos roc_curve() para obtener los valores de la tasa de falsos positivos (FPR) y la tasa de verdaderos positivos (TPR) para diferentes umbrales de decisión.\n",
        "Calcular el AUC (Área bajo la curva):\n",
        "\n",
        "\n",
        "Usamos roc_auc_score() para calcular el área bajo la curva ROC (AUC), que mide el rendimiento global del modelo. Un valor cercano a 1 significa un muy buen rendimiento en la clasificación.\n",
        "Graficar la curva ROC:\n",
        "\n",
        "\n",
        "Utilizamos matplotlib para graficar la curva ROC. En este gráfico:\n",
        "El eje X representa la tasa de falsos positivos (FPR).\n",
        "El eje Y representa la tasa de verdaderos positivos (TPR).\n",
        "La línea diagonal es una referencia que representa una clasificación aleatoria.\n",
        "\n",
        "Interpretación:\n",
        "\n",
        "AUC:\n",
        "\n",
        "Si el AUC es cercano a 1.0, indica que el modelo de regresión logística es muy bueno en la clasificación de correos spam y no spam.\n",
        "Un AUC cercano a 0.5 significaría que el modelo no es mejor que una clasificación aleatoria.\n",
        "\n",
        "Comparación con otros modelos:\n",
        "\n",
        "Si ya calculaste el AUC para otros modelos (como el Bayesiano), puedes comparar estos valores para ver cuál de los modelos tiene mejor rendimiento.\n",
        "\n",
        "Si tienes los resultados y datos específicos de tu modelo de regresión logística, puedes utilizar este código para obtener la curva ROC y AUC exactos. Si necesitas más ayuda, ¡avísame!"
      ]
    }
  ],
  "metadata": {
    "colab": {
      "provenance": [],
      "include_colab_link": true
    },
    "kernelspec": {
      "display_name": "Python 3 (ipykernel)",
      "language": "python",
      "name": "python3"
    },
    "language_info": {
      "codemirror_mode": {
        "name": "ipython",
        "version": 3
      },
      "file_extension": ".py",
      "mimetype": "text/x-python",
      "name": "python",
      "nbconvert_exporter": "python",
      "pygments_lexer": "ipython3",
      "version": "3.13.0"
    }
  },
  "nbformat": 4,
  "nbformat_minor": 5
}